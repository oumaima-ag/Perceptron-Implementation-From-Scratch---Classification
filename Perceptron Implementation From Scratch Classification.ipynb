{
 "cells": [
  {
   "cell_type": "markdown",
   "id": "777aa831",
   "metadata": {},
   "source": [
    "# Import necessary libraries"
   ]
  },
  {
   "cell_type": "code",
   "execution_count": 19,
   "id": "1e6d979f",
   "metadata": {},
   "outputs": [],
   "source": [
    "import pandas as pd\n",
    "import numpy as np\n",
    "from sklearn.model_selection import train_test_split\n",
    "from sklearn.preprocessing import StandardScaler\n",
    "from sklearn.metrics import accuracy_score, precision_score, recall_score, f1_score\n",
    "import matplotlib.pyplot as plt"
   ]
  },
  {
   "cell_type": "markdown",
   "id": "b0a810bb",
   "metadata": {},
   "source": [
    "#  Load the dataset"
   ]
  },
  {
   "cell_type": "code",
   "execution_count": 20,
   "id": "15a7ae21",
   "metadata": {},
   "outputs": [
    {
     "data": {
      "text/html": [
       "<div>\n",
       "<style scoped>\n",
       "    .dataframe tbody tr th:only-of-type {\n",
       "        vertical-align: middle;\n",
       "    }\n",
       "\n",
       "    .dataframe tbody tr th {\n",
       "        vertical-align: top;\n",
       "    }\n",
       "\n",
       "    .dataframe thead th {\n",
       "        text-align: right;\n",
       "    }\n",
       "</style>\n",
       "<table border=\"1\" class=\"dataframe\">\n",
       "  <thead>\n",
       "    <tr style=\"text-align: right;\">\n",
       "      <th></th>\n",
       "      <th>feature_1</th>\n",
       "      <th>feature_2</th>\n",
       "      <th>feature_3</th>\n",
       "      <th>feature_4</th>\n",
       "      <th>feature_5</th>\n",
       "      <th>feature_6</th>\n",
       "      <th>feature_7</th>\n",
       "      <th>cancer_form</th>\n",
       "    </tr>\n",
       "  </thead>\n",
       "  <tbody>\n",
       "    <tr>\n",
       "      <th>2210</th>\n",
       "      <td>179.890554</td>\n",
       "      <td>41.295820</td>\n",
       "      <td>-1524.839578</td>\n",
       "      <td>-0.697985</td>\n",
       "      <td>-15.178395</td>\n",
       "      <td>5.538089</td>\n",
       "      <td>6.549069</td>\n",
       "      <td>1</td>\n",
       "    </tr>\n",
       "    <tr>\n",
       "      <th>635</th>\n",
       "      <td>25.988871</td>\n",
       "      <td>89.459455</td>\n",
       "      <td>-620.451947</td>\n",
       "      <td>0.423571</td>\n",
       "      <td>-266.465416</td>\n",
       "      <td>0.715051</td>\n",
       "      <td>23.066501</td>\n",
       "      <td>0</td>\n",
       "    </tr>\n",
       "    <tr>\n",
       "      <th>4861</th>\n",
       "      <td>184.420121</td>\n",
       "      <td>-14.753183</td>\n",
       "      <td>-2695.865047</td>\n",
       "      <td>-0.326457</td>\n",
       "      <td>87.290858</td>\n",
       "      <td>18.917848</td>\n",
       "      <td>-9.156243</td>\n",
       "      <td>0</td>\n",
       "    </tr>\n",
       "    <tr>\n",
       "      <th>9362</th>\n",
       "      <td>322.358829</td>\n",
       "      <td>71.302635</td>\n",
       "      <td>-3816.545977</td>\n",
       "      <td>-1.646642</td>\n",
       "      <td>-32.286579</td>\n",
       "      <td>20.609884</td>\n",
       "      <td>-5.764260</td>\n",
       "      <td>1</td>\n",
       "    </tr>\n",
       "    <tr>\n",
       "      <th>7455</th>\n",
       "      <td>126.957038</td>\n",
       "      <td>18.804348</td>\n",
       "      <td>-1117.060698</td>\n",
       "      <td>-1.633929</td>\n",
       "      <td>-228.049756</td>\n",
       "      <td>22.317564</td>\n",
       "      <td>13.061518</td>\n",
       "      <td>0</td>\n",
       "    </tr>\n",
       "    <tr>\n",
       "      <th>5630</th>\n",
       "      <td>-84.823943</td>\n",
       "      <td>-68.879726</td>\n",
       "      <td>774.721870</td>\n",
       "      <td>-2.422628</td>\n",
       "      <td>-120.344797</td>\n",
       "      <td>22.851542</td>\n",
       "      <td>-18.997972</td>\n",
       "      <td>0</td>\n",
       "    </tr>\n",
       "    <tr>\n",
       "      <th>5538</th>\n",
       "      <td>45.436029</td>\n",
       "      <td>-37.925072</td>\n",
       "      <td>-3738.659762</td>\n",
       "      <td>-0.939083</td>\n",
       "      <td>-215.995287</td>\n",
       "      <td>52.121997</td>\n",
       "      <td>-24.492725</td>\n",
       "      <td>1</td>\n",
       "    </tr>\n",
       "    <tr>\n",
       "      <th>5649</th>\n",
       "      <td>-299.940575</td>\n",
       "      <td>-155.125102</td>\n",
       "      <td>-1344.926877</td>\n",
       "      <td>0.930052</td>\n",
       "      <td>-150.457618</td>\n",
       "      <td>49.502073</td>\n",
       "      <td>-38.458030</td>\n",
       "      <td>0</td>\n",
       "    </tr>\n",
       "    <tr>\n",
       "      <th>5348</th>\n",
       "      <td>-137.411829</td>\n",
       "      <td>-66.722492</td>\n",
       "      <td>2849.512523</td>\n",
       "      <td>-0.951024</td>\n",
       "      <td>-276.301460</td>\n",
       "      <td>10.561519</td>\n",
       "      <td>29.596312</td>\n",
       "      <td>1</td>\n",
       "    </tr>\n",
       "    <tr>\n",
       "      <th>6130</th>\n",
       "      <td>333.552230</td>\n",
       "      <td>117.277822</td>\n",
       "      <td>-2602.609357</td>\n",
       "      <td>-0.432025</td>\n",
       "      <td>-30.358641</td>\n",
       "      <td>-2.250558</td>\n",
       "      <td>22.649226</td>\n",
       "      <td>0</td>\n",
       "    </tr>\n",
       "  </tbody>\n",
       "</table>\n",
       "</div>"
      ],
      "text/plain": [
       "       feature_1   feature_2    feature_3  feature_4   feature_5  feature_6  \\\n",
       "2210  179.890554   41.295820 -1524.839578  -0.697985  -15.178395   5.538089   \n",
       "635    25.988871   89.459455  -620.451947   0.423571 -266.465416   0.715051   \n",
       "4861  184.420121  -14.753183 -2695.865047  -0.326457   87.290858  18.917848   \n",
       "9362  322.358829   71.302635 -3816.545977  -1.646642  -32.286579  20.609884   \n",
       "7455  126.957038   18.804348 -1117.060698  -1.633929 -228.049756  22.317564   \n",
       "5630  -84.823943  -68.879726   774.721870  -2.422628 -120.344797  22.851542   \n",
       "5538   45.436029  -37.925072 -3738.659762  -0.939083 -215.995287  52.121997   \n",
       "5649 -299.940575 -155.125102 -1344.926877   0.930052 -150.457618  49.502073   \n",
       "5348 -137.411829  -66.722492  2849.512523  -0.951024 -276.301460  10.561519   \n",
       "6130  333.552230  117.277822 -2602.609357  -0.432025  -30.358641  -2.250558   \n",
       "\n",
       "      feature_7  cancer_form  \n",
       "2210   6.549069            1  \n",
       "635   23.066501            0  \n",
       "4861  -9.156243            0  \n",
       "9362  -5.764260            1  \n",
       "7455  13.061518            0  \n",
       "5630 -18.997972            0  \n",
       "5538 -24.492725            1  \n",
       "5649 -38.458030            0  \n",
       "5348  29.596312            1  \n",
       "6130  22.649226            0  "
      ]
     },
     "execution_count": 20,
     "metadata": {},
     "output_type": "execute_result"
    }
   ],
   "source": [
    "df = pd.read_csv('/cancer.csv')\n",
    "df.sample(n=10)"
   ]
  },
  {
   "cell_type": "code",
   "execution_count": 21,
   "id": "9588912c",
   "metadata": {},
   "outputs": [
    {
     "name": "stdout",
     "output_type": "stream",
     "text": [
      "<class 'pandas.core.frame.DataFrame'>\n",
      "RangeIndex: 10000 entries, 0 to 9999\n",
      "Data columns (total 8 columns):\n",
      " #   Column       Non-Null Count  Dtype  \n",
      "---  ------       --------------  -----  \n",
      " 0   feature_1    10000 non-null  float64\n",
      " 1   feature_2    10000 non-null  float64\n",
      " 2   feature_3    10000 non-null  float64\n",
      " 3   feature_4    10000 non-null  float64\n",
      " 4   feature_5    10000 non-null  float64\n",
      " 5   feature_6    10000 non-null  float64\n",
      " 6   feature_7    10000 non-null  float64\n",
      " 7   cancer_form  10000 non-null  int64  \n",
      "dtypes: float64(7), int64(1)\n",
      "memory usage: 625.1 KB\n"
     ]
    }
   ],
   "source": [
    "df.info()"
   ]
  },
  {
   "cell_type": "markdown",
   "id": "91cdd886",
   "metadata": {},
   "source": [
    "# Split the dataset into features (X) and labels (y)"
   ]
  },
  {
   "cell_type": "code",
   "execution_count": 22,
   "id": "fb23cd3c",
   "metadata": {},
   "outputs": [],
   "source": [
    "X = df.drop(columns=['cancer_form']).values\n",
    "y = df['cancer_form'].values\n"
   ]
  },
  {
   "cell_type": "markdown",
   "id": "8c8e537c",
   "metadata": {},
   "source": [
    "# Split the data into training, validation, and testing sets"
   ]
  },
  {
   "cell_type": "code",
   "execution_count": 23,
   "id": "0af4bfb9",
   "metadata": {},
   "outputs": [],
   "source": [
    "X_train, X_temp, y_train, y_temp = train_test_split(X, y, test_size=0.3, random_state=1408, shuffle=True)\n",
    "X_val, X_test, y_val, y_test = train_test_split(X_temp, y_temp, test_size=0.5, random_state=1408, shuffle=True)\n",
    "\n",
    "\n"
   ]
  },
  {
   "cell_type": "markdown",
   "id": "7656dace",
   "metadata": {},
   "source": [
    "# Feature scaling"
   ]
  },
  {
   "cell_type": "code",
   "execution_count": 24,
   "id": "c7628bb6",
   "metadata": {},
   "outputs": [],
   "source": [
    "scaler = StandardScaler()\n",
    "scaler.fit(X_train)\n",
    "X_train = scaler.transform(X_train)\n",
    "X_val = scaler.transform(X_val)\n",
    "X_test = scaler.transform(X_test)"
   ]
  },
  {
   "cell_type": "markdown",
   "id": "4c4b567e",
   "metadata": {},
   "source": [
    "# Define the perceptron model"
   ]
  },
  {
   "cell_type": "code",
   "execution_count": 25,
   "id": "e23e40fb",
   "metadata": {},
   "outputs": [],
   "source": [
    "\n",
    "def perceptron(X, W, b):\n",
    "    z = np.dot(X, W) + b\n",
    "    return z.flatten()"
   ]
  },
  {
   "cell_type": "markdown",
   "id": "f11bbf77",
   "metadata": {},
   "source": [
    "# Define the binary classification loss function"
   ]
  },
  {
   "cell_type": "code",
   "execution_count": 27,
   "id": "507c59cd",
   "metadata": {},
   "outputs": [],
   "source": [
    "def gradient_b(y_true, y_pred):\n",
    "    return np.mean(y_pred - y_true)\n",
    "\n",
    "def gradient_W(X, y_true, y_pred):\n",
    "    m = X.shape[0]\n",
    "    Y = (y_pred - y_true).reshape((y_true.shape[0], 1))\n",
    "    return (1. / m) * np.dot(np.transpose(X), Y)\n"
   ]
  },
  {
   "cell_type": "markdown",
   "id": "f64f092f",
   "metadata": {},
   "source": [
    "# Initialize parameters"
   ]
  },
  {
   "cell_type": "code",
   "execution_count": 28,
   "id": "428b58b1",
   "metadata": {},
   "outputs": [],
   "source": [
    "b = np.random.normal(loc=0., scale=1.)\n",
    "W = np.random.normal(loc=0., scale=1., size=(X_train.shape[1], 1))"
   ]
  },
  {
   "cell_type": "markdown",
   "id": "8f33d9cf",
   "metadata": {},
   "source": [
    "# Initialize the learning rate"
   ]
  },
  {
   "cell_type": "code",
   "execution_count": 29,
   "id": "53f95c84",
   "metadata": {},
   "outputs": [],
   "source": [
    "lr = 0.001"
   ]
  },
  {
   "cell_type": "markdown",
   "id": "a2b799e1",
   "metadata": {},
   "source": [
    "# Training"
   ]
  },
  {
   "cell_type": "code",
   "execution_count": 30,
   "id": "58fab482",
   "metadata": {},
   "outputs": [
    {
     "name": "stdout",
     "output_type": "stream",
     "text": [
      "Epoch 0, training loss: 14.1395, validation loss: 14.6908\n",
      "Epoch 100, training loss: 13.7249, validation loss: 14.2328\n",
      "Epoch 200, training loss: 13.2554, validation loss: 13.8212\n",
      "Epoch 300, training loss: 12.7260, validation loss: 13.2287\n",
      "Epoch 400, training loss: 12.1221, validation loss: 12.8362\n",
      "Epoch 500, training loss: 11.5045, validation loss: 12.3029\n",
      "Epoch 600, training loss: 10.8809, validation loss: 11.8307\n",
      "Epoch 700, training loss: 10.1841, validation loss: 10.9834\n",
      "Epoch 800, training loss: 9.4319, validation loss: 10.0725\n",
      "Epoch 900, training loss: 8.7149, validation loss: 9.2475\n",
      "Epoch 1000, training loss: 7.9413, validation loss: 8.5043\n",
      "Epoch 1100, training loss: 7.3283, validation loss: 7.7330\n",
      "Epoch 1200, training loss: 6.6695, validation loss: 7.1343\n",
      "Epoch 1300, training loss: 6.0290, validation loss: 6.4851\n",
      "Epoch 1400, training loss: 5.3409, validation loss: 5.6866\n",
      "Epoch 1500, training loss: 4.7938, validation loss: 5.0833\n",
      "Epoch 1600, training loss: 4.2216, validation loss: 4.4171\n",
      "Epoch 1700, training loss: 3.6784, validation loss: 4.0087\n",
      "Epoch 1800, training loss: 3.2745, validation loss: 3.4760\n",
      "Epoch 1900, training loss: 2.9454, validation loss: 3.0175\n",
      "Epoch 2000, training loss: 2.6208, validation loss: 2.5328\n",
      "Epoch 2100, training loss: 2.4025, validation loss: 2.1602\n",
      "Epoch 2200, training loss: 2.1721, validation loss: 1.8981\n",
      "Epoch 2300, training loss: 1.9126, validation loss: 1.7644\n",
      "Epoch 2400, training loss: 1.7325, validation loss: 1.6018\n",
      "Epoch 2500, training loss: 1.6010, validation loss: 1.4841\n",
      "Epoch 2600, training loss: 1.4568, validation loss: 1.3656\n",
      "Epoch 2700, training loss: 1.3428, validation loss: 1.2891\n",
      "Epoch 2800, training loss: 1.2835, validation loss: 1.2029\n",
      "Epoch 2900, training loss: 1.2229, validation loss: 1.0882\n",
      "Epoch 3000, training loss: 1.1775, validation loss: 1.0786\n",
      "Epoch 3100, training loss: 1.1167, validation loss: 0.9746\n",
      "Epoch 3200, training loss: 1.0296, validation loss: 0.9276\n",
      "Epoch 3300, training loss: 0.9922, validation loss: 0.9032\n",
      "Epoch 3400, training loss: 0.9374, validation loss: 0.8779\n",
      "Epoch 3500, training loss: 0.9116, validation loss: 0.8347\n",
      "Epoch 3600, training loss: 0.8794, validation loss: 0.8113\n",
      "Epoch 3700, training loss: 0.8565, validation loss: 0.7882\n",
      "Epoch 3800, training loss: 0.8412, validation loss: 0.7858\n",
      "Epoch 3900, training loss: 0.8146, validation loss: 0.7657\n",
      "Epoch 4000, training loss: 0.8040, validation loss: 0.7633\n",
      "Epoch 4100, training loss: 0.7910, validation loss: 0.7238\n",
      "Epoch 4200, training loss: 0.7933, validation loss: 0.7220\n",
      "Epoch 4300, training loss: 0.7924, validation loss: 0.7209\n",
      "Epoch 4400, training loss: 0.7916, validation loss: 0.7202\n",
      "Epoch 4500, training loss: 0.7751, validation loss: 0.7197\n",
      "Epoch 4600, training loss: 0.7700, validation loss: 0.7193\n",
      "Epoch 4700, training loss: 0.7694, validation loss: 0.7006\n",
      "Epoch 4800, training loss: 0.7611, validation loss: 0.6993\n",
      "Epoch 4900, training loss: 0.7486, validation loss: 0.6988\n",
      "Epoch 5000, training loss: 0.7478, validation loss: 0.6985\n",
      "Epoch 5100, training loss: 0.7475, validation loss: 0.6983\n",
      "Epoch 5200, training loss: 0.7473, validation loss: 0.6982\n",
      "Epoch 5300, training loss: 0.7433, validation loss: 0.6981\n",
      "Epoch 5400, training loss: 0.7391, validation loss: 0.6981\n",
      "Epoch 5500, training loss: 0.7388, validation loss: 0.6800\n",
      "Epoch 5600, training loss: 0.7387, validation loss: 0.6792\n",
      "Epoch 5700, training loss: 0.7386, validation loss: 0.6789\n",
      "Epoch 5800, training loss: 0.7386, validation loss: 0.6787\n",
      "Epoch 5900, training loss: 0.7385, validation loss: 0.6786\n",
      "Epoch 6000, training loss: 0.7268, validation loss: 0.6785\n",
      "Epoch 6100, training loss: 0.7264, validation loss: 0.6785\n",
      "Epoch 6200, training loss: 0.7262, validation loss: 0.6784\n",
      "Epoch 6300, training loss: 0.7261, validation loss: 0.6784\n",
      "Epoch 6400, training loss: 0.7260, validation loss: 0.6784\n",
      "Epoch 6500, training loss: 0.7260, validation loss: 0.6784\n",
      "Epoch 6600, training loss: 0.7222, validation loss: 0.6784\n",
      "Epoch 6700, training loss: 0.7220, validation loss: 0.6784\n",
      "Epoch 6800, training loss: 0.7220, validation loss: 0.6784\n",
      "Epoch 6900, training loss: 0.7219, validation loss: 0.6784\n",
      "Epoch 7000, training loss: 0.7219, validation loss: 0.6610\n",
      "Epoch 7100, training loss: 0.7218, validation loss: 0.6605\n",
      "Epoch 7200, training loss: 0.7218, validation loss: 0.6602\n",
      "Epoch 7300, training loss: 0.7218, validation loss: 0.6600\n",
      "Epoch 7400, training loss: 0.7218, validation loss: 0.6599\n",
      "Epoch 7500, training loss: 0.7218, validation loss: 0.6598\n",
      "Epoch 7600, training loss: 0.7218, validation loss: 0.6597\n",
      "Epoch 7700, training loss: 0.7218, validation loss: 0.6597\n",
      "Epoch 7800, training loss: 0.7217, validation loss: 0.6596\n",
      "Epoch 7900, training loss: 0.7217, validation loss: 0.6596\n",
      "Epoch 8000, training loss: 0.7217, validation loss: 0.6595\n",
      "Epoch 8100, training loss: 0.7217, validation loss: 0.6595\n",
      "Epoch 8200, training loss: 0.7217, validation loss: 0.6595\n",
      "Epoch 8300, training loss: 0.7217, validation loss: 0.6595\n",
      "Epoch 8400, training loss: 0.7217, validation loss: 0.6594\n",
      "Epoch 8500, training loss: 0.7217, validation loss: 0.6594\n",
      "Epoch 8600, training loss: 0.7217, validation loss: 0.6594\n",
      "Epoch 8700, training loss: 0.7217, validation loss: 0.6594\n",
      "Epoch 8800, training loss: 0.7217, validation loss: 0.6430\n",
      "Epoch 8900, training loss: 0.7217, validation loss: 0.6421\n",
      "Epoch 9000, training loss: 0.7217, validation loss: 0.6418\n",
      "Epoch 9100, training loss: 0.7217, validation loss: 0.6416\n",
      "Epoch 9200, training loss: 0.7217, validation loss: 0.6414\n",
      "Epoch 9300, training loss: 0.7217, validation loss: 0.6413\n",
      "Epoch 9400, training loss: 0.7217, validation loss: 0.6412\n",
      "Epoch 9500, training loss: 0.7217, validation loss: 0.6411\n",
      "Epoch 9600, training loss: 0.7217, validation loss: 0.6411\n",
      "Epoch 9700, training loss: 0.7217, validation loss: 0.6410\n",
      "Epoch 9800, training loss: 0.7217, validation loss: 0.6410\n",
      "Epoch 9900, training loss: 0.7217, validation loss: 0.6410\n"
     ]
    }
   ],
   "source": [
    "losses_train = []\n",
    "losses_val = []\n",
    "epochs = 10000\n",
    "\n",
    "for epoch in range(epochs):\n",
    "    # Compute predictions\n",
    "    y_pred = perceptron(X_train, W, b)\n",
    "    \n",
    "    # Compute gradients\n",
    "    grad_b = gradient_b(y_train, y_pred)\n",
    "    grad_W = gradient_W(X_train, y_train, y_pred)\n",
    "    \n",
    "    # Update parameters\n",
    "    b = b - lr * grad_b\n",
    "    W = W - lr * grad_W\n",
    "    \n",
    "    # Compute the binary cross-entropy loss\n",
    "    y_hat = perceptron(X_train, W, b)\n",
    "    loss_train = np.mean(binary_crossentropy(y_train, y_hat))\n",
    "    y_hat = perceptron(X_val, W, b)\n",
    "    loss_val = np.mean(binary_crossentropy(y_val, y_hat))\n",
    "    \n",
    "    # Keep track of the loss\n",
    "    losses_train.append(loss_train)\n",
    "    losses_val.append(loss_val)\n",
    "    \n",
    "    # Print loss\n",
    "    if epoch % 100 == 0:\n",
    "        print(f'Epoch {epoch}, training loss: {loss_train:.4f}, validation loss: {loss_val:.4f}')\n"
   ]
  },
  {
   "cell_type": "markdown",
   "id": "12cfee0a",
   "metadata": {},
   "source": [
    "# Visualization of the loss"
   ]
  },
  {
   "cell_type": "code",
   "execution_count": 31,
   "id": "49b0cc64",
   "metadata": {},
   "outputs": [
    {
     "data": {
      "image/png": "[encoded data removed]",
      "text/plain": [
       "<Figure size 640x480 with 1 Axes>"
      ]
     },
     "metadata": {},
     "output_type": "display_data"
    }
   ],
   "source": [
    "plt.figure()\n",
    "plt.plot(np.arange(epochs), losses_train)\n",
    "plt.plot(np.arange(epochs), losses_val)\n",
    "plt.title('Training and Validation Losses Decay')\n",
    "plt.xlabel('Epoch')\n",
    "plt.ylabel('Loss')\n",
    "plt.legend(['Training', 'Validation'])\n",
    "plt.show()\n"
   ]
  },
  {
   "cell_type": "markdown",
   "id": "f6fd2955",
   "metadata": {},
   "source": [
    "#  Model Evaluation"
   ]
  },
  {
   "cell_type": "code",
   "execution_count": 32,
   "id": "f1e80e39",
   "metadata": {},
   "outputs": [
    {
     "name": "stdout",
     "output_type": "stream",
     "text": [
      "Accuracy: 0.8307\n",
      "Precision: 0.8163\n",
      "Recall: 0.8493\n",
      "F1 Score: 0.8325\n"
     ]
    }
   ],
   "source": [
    "y_pred = perceptron(X_test, W, b)\n",
    "y_pred_binary = (y_pred >= 0.5).astype(int)\n",
    "\n",
    "accuracy = accuracy_score(y_test, y_pred_binary)\n",
    "precision = precision_score(y_test, y_pred_binary)\n",
    "recall = recall_score(y_test, y_pred_binary)\n",
    "f1 = f1_score(y_test, y_pred_binary)\n",
    "\n",
    "print(f'Accuracy: {accuracy:.4f}')\n",
    "print(f'Precision: {precision:.4f}')\n",
    "print(f'Recall: {recall:.4f}')\n",
    "print(f'F1 Score: {f1:.4f}')"
   ]
  },
  {
   "cell_type": "code",
   "execution_count": null,
   "id": "29661961",
   "metadata": {},
   "outputs": [],
   "source": []
  }
 ],
 "metadata": {
  "kernelspec": {
   "display_name": "Python 3 (ipykernel)",
   "language": "python",
   "name": "python3"
  },
  "language_info": {
   "codemirror_mode": {
    "name": "ipython",
    "version": 3
   },
   "file_extension": ".py",
   "mimetype": "text/x-python",
   "name": "python",
   "nbconvert_exporter": "python",
   "pygments_lexer": "ipython3",
   "version": "3.11.4"
  }
 },
 "nbformat": 4,
 "nbformat_minor": 5
}
